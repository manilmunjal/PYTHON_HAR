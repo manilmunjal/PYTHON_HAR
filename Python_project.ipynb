{
 "cells": [
  {
   "cell_type": "code",
   "execution_count": 2,
   "id": "0ff04052",
   "metadata": {},
   "outputs": [
    {
     "name": "stdout",
     "output_type": "stream",
     "text": [
      "What is your mean heart rate?\n",
      "85.36\n"
     ]
    },
    {
     "data": {
      "text/html": [
       "<div>\n",
       "<style scoped>\n",
       "    .dataframe tbody tr th:only-of-type {\n",
       "        vertical-align: middle;\n",
       "    }\n",
       "\n",
       "    .dataframe tbody tr th {\n",
       "        vertical-align: top;\n",
       "    }\n",
       "\n",
       "    .dataframe thead th {\n",
       "        text-align: right;\n",
       "    }\n",
       "</style>\n",
       "<table border=\"1\" class=\"dataframe\">\n",
       "  <thead>\n",
       "    <tr style=\"text-align: right;\">\n",
       "      <th></th>\n",
       "      <th>Step count</th>\n",
       "    </tr>\n",
       "  </thead>\n",
       "  <tbody>\n",
       "    <tr>\n",
       "      <th>0</th>\n",
       "      <td>2575</td>\n",
       "    </tr>\n",
       "    <tr>\n",
       "      <th>1</th>\n",
       "      <td>7517</td>\n",
       "    </tr>\n",
       "    <tr>\n",
       "      <th>2</th>\n",
       "      <td>5916</td>\n",
       "    </tr>\n",
       "    <tr>\n",
       "      <th>3</th>\n",
       "      <td>6641</td>\n",
       "    </tr>\n",
       "    <tr>\n",
       "      <th>4</th>\n",
       "      <td>3013</td>\n",
       "    </tr>\n",
       "    <tr>\n",
       "      <th>...</th>\n",
       "      <td>...</td>\n",
       "    </tr>\n",
       "    <tr>\n",
       "      <th>172</th>\n",
       "      <td>13012</td>\n",
       "    </tr>\n",
       "    <tr>\n",
       "      <th>173</th>\n",
       "      <td>7194</td>\n",
       "    </tr>\n",
       "    <tr>\n",
       "      <th>174</th>\n",
       "      <td>8259</td>\n",
       "    </tr>\n",
       "    <tr>\n",
       "      <th>175</th>\n",
       "      <td>3676</td>\n",
       "    </tr>\n",
       "    <tr>\n",
       "      <th>176</th>\n",
       "      <td>10393</td>\n",
       "    </tr>\n",
       "  </tbody>\n",
       "</table>\n",
       "<p>177 rows × 1 columns</p>\n",
       "</div>"
      ],
      "text/plain": [
       "     Step count\n",
       "0          2575\n",
       "1          7517\n",
       "2          5916\n",
       "3          6641\n",
       "4          3013\n",
       "..          ...\n",
       "172       13012\n",
       "173        7194\n",
       "174        8259\n",
       "175        3676\n",
       "176       10393\n",
       "\n",
       "[177 rows x 1 columns]"
      ]
     },
     "execution_count": 2,
     "metadata": {},
     "output_type": "execute_result"
    }
   ],
   "source": [
    "customer_heart_rate = float(input('What is your mean heart rate?\\n'))\n",
    "import pandas as pd\n",
    "import numpy as np\n",
    "df = pd.read_csv('data_collection.csv')\n",
    "df"
   ]
  },
  {
   "cell_type": "code",
   "execution_count": 3,
   "id": "99683c78",
   "metadata": {
    "scrolled": false
   },
   "outputs": [
    {
     "name": "stdout",
     "output_type": "stream",
     "text": [
      "    cumulative_daily_steps  mean_heart_rate\n",
      "0                     9485            82.51\n",
      "1                     9757            89.53\n",
      "2                    11127            85.08\n",
      "3                     8555            82.02\n",
      "4                     8485            80.98\n",
      "5                     9085            89.14\n",
      "6                     9908            84.68\n",
      "7                    10958            84.82\n",
      "8                     8053            79.85\n",
      "9                    12323            80.31\n",
      "10                    9684            79.97\n",
      "11                    9674            80.38\n",
      "12                   10475            81.72\n",
      "13                    8466            80.94\n",
      "14                    9376            83.96\n",
      "15                    9577            89.30\n",
      "16                    9786            72.98\n",
      "17                    7506            87.80\n",
      "18                    7596            76.78\n",
      "19                    9475            77.79\n",
      "20                   10947            80.68\n",
      "21                   10957            79.80\n",
      "22                   11848            79.89\n",
      "23                    8596            80.56\n",
      "24                    7596            82.67\n",
      "25                    9576            81.79\n",
      "26                   13058            75.57\n",
      "27                   11859            78.89\n",
      "28                   10274            77.98\n",
      "29                   10845            79.90\n",
      "30                    7705            82.97\n",
      "31                    9708            81.28\n",
      "32                    9806            86.64\n",
      "33                    7866            84.34\n",
      "34                   12970            82.27\n",
      "35                    9706            83.47\n",
      "36                   10795            79.78\n",
      "37                   11968            84.63\n",
      "38                    7607            79.67\n",
      "39                    8796            79.78\n",
      "40                    7958            79.80\n",
      "41                   10386            81.79\n",
      "42                    9886            82.15\n",
      "43                    7456            82.18\n",
      "44                    8796            84.79\n",
      "45                   11957            85.37\n",
      "46                    9785            83.47\n",
      "47                    8796            84.41\n",
      "48                    9735            73.78\n",
      "49                   10393            82.76\n"
     ]
    }
   ],
   "source": [
    "da = pd.read_csv('dataset_final.csv')\n",
    "print(da)"
   ]
  },
  {
   "cell_type": "code",
   "execution_count": 4,
   "id": "70a31834",
   "metadata": {},
   "outputs": [
    {
     "name": "stdout",
     "output_type": "stream",
     "text": [
      "10393\n"
     ]
    }
   ],
   "source": [
    "current_step_count = (df[\"Step count\"].values[-1])\n",
    "print(current_step_count)\n"
   ]
  },
  {
   "cell_type": "code",
   "execution_count": 5,
   "id": "7672ceda",
   "metadata": {},
   "outputs": [
    {
     "name": "stdout",
     "output_type": "stream",
     "text": [
      "    cumulative_daily_steps  mean_heart_rate\n",
      "49                   10393            82.76\n"
     ]
    }
   ],
   "source": [
    "backend_data = da.loc[da['cumulative_daily_steps']==current_step_count]\n",
    "print(backend_data)\n"
   ]
  },
  {
   "cell_type": "code",
   "execution_count": 6,
   "id": "9eb5fb65",
   "metadata": {},
   "outputs": [
    {
     "name": "stdout",
     "output_type": "stream",
     "text": [
      "Int64Index([49], dtype='int64')\n"
     ]
    }
   ],
   "source": [
    "index = backend_data.index\n",
    "print(index)\n"
   ]
  },
  {
   "cell_type": "code",
   "execution_count": 7,
   "id": "9fdbd355",
   "metadata": {},
   "outputs": [
    {
     "name": "stdout",
     "output_type": "stream",
     "text": [
      "[82.76]\n"
     ]
    }
   ],
   "source": [
    "mean_heart_rates = (da[\"mean_heart_rate\"].values[index])\n",
    "print(mean_heart_rates)\n"
   ]
  },
  {
   "cell_type": "markdown",
   "id": "6777ae60",
   "metadata": {},
   "source": [
    "\n"
   ]
  },
  {
   "cell_type": "code",
   "execution_count": 8,
   "id": "d25818c3",
   "metadata": {},
   "outputs": [
    {
     "name": "stdout",
     "output_type": "stream",
     "text": [
      "Heart rate is normal  you are good to go!\n"
     ]
    }
   ],
   "source": [
    "if customer_heart_rate > mean_heart_rates + 10  or customer_heart_rate < mean_heart_rates - 10 :\n",
    "    print(\"Heart rate is not normal  please consult to doctor\") \n",
    "else:\n",
    "    print(\"Heart rate is normal  you are good to go!\")"
   ]
  },
  {
   "cell_type": "code",
   "execution_count": null,
   "id": "6acf8ae4",
   "metadata": {},
   "outputs": [],
   "source": []
  }
 ],
 "metadata": {
  "kernelspec": {
   "display_name": "Python 3 (ipykernel)",
   "language": "python",
   "name": "python3"
  },
  "language_info": {
   "codemirror_mode": {
    "name": "ipython",
    "version": 3
   },
   "file_extension": ".py",
   "mimetype": "text/x-python",
   "name": "python",
   "nbconvert_exporter": "python",
   "pygments_lexer": "ipython3",
   "version": "3.10.6"
  }
 },
 "nbformat": 4,
 "nbformat_minor": 5
}
